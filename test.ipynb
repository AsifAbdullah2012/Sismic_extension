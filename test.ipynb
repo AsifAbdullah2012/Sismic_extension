{
 "cells": [
  {
   "cell_type": "code",
   "execution_count": 1,
   "id": "9c76a332-786b-4168-9ff1-f9e58c6a8b55",
   "metadata": {},
   "outputs": [],
   "source": [
    "from sismic.io import import_from_yaml\n",
    "from sismic.interpreter import Interpreter"
   ]
  },
  {
   "cell_type": "code",
   "execution_count": 40,
   "id": "75f87901-1938-4642-89df-5822552c0dcf",
   "metadata": {},
   "outputs": [],
   "source": [
    "dataset_path = \"sismic/docs/examples/elevator/elevator.yaml\""
   ]
  },
  {
   "cell_type": "code",
   "execution_count": 41,
   "id": "721766c2-167f-43b0-8354-bb4ca02b58bf",
   "metadata": {},
   "outputs": [
    {
     "name": "stdout",
     "output_type": "stream",
     "text": [
      "statechart:\n",
      "\n"
     ]
    }
   ],
   "source": []
  },
  {
   "cell_type": "code",
   "execution_count": 45,
   "id": "9876c089-5265-47c2-badc-358d1af70685",
   "metadata": {},
   "outputs": [],
   "source": [
    "# Load statechart from yaml file\n",
    "elevator = import_from_yaml(filepath=\"sismic/docs/examples/elevator/elevator.yaml\")"
   ]
  },
  {
   "cell_type": "code",
   "execution_count": 48,
   "id": "49a40e53-27ec-4e4c-888a-593d9d37be37",
   "metadata": {},
   "outputs": [
    {
     "data": {
      "text/plain": [
       "sismic.model.statechart.Statechart"
      ]
     },
     "execution_count": 48,
     "metadata": {},
     "output_type": "execute_result"
    }
   ],
   "source": [
    "type(elevator)"
   ]
  },
  {
   "cell_type": "code",
   "execution_count": 49,
   "id": "8fedd1ae-6f7c-474e-bce8-b3a787a28a2d",
   "metadata": {},
   "outputs": [
    {
     "data": {
      "text/plain": [
       "Statechart('Elevator')"
      ]
     },
     "execution_count": 49,
     "metadata": {},
     "output_type": "execute_result"
    }
   ],
   "source": [
    "elevator"
   ]
  },
  {
   "cell_type": "code",
   "execution_count": null,
   "id": "415c5f43-b910-4944-a805-25adbc863e97",
   "metadata": {},
   "outputs": [],
   "source": []
  }
 ],
 "metadata": {
  "kernelspec": {
   "display_name": "Python 3",
   "language": "python",
   "name": "python3"
  },
  "language_info": {
   "codemirror_mode": {
    "name": "ipython",
    "version": 3
   },
   "file_extension": ".py",
   "mimetype": "text/x-python",
   "name": "python",
   "nbconvert_exporter": "python",
   "pygments_lexer": "ipython3",
   "version": "3.7.13"
  }
 },
 "nbformat": 4,
 "nbformat_minor": 5
}
